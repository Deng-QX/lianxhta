{
 "cells": [
  {
   "cell_type": "markdown",
   "id": "4643df9d",
   "metadata": {},
   "source": [
    "## 批量重命名文件\n",
    "\n",
    "- 任务：重命名文件名，Python 代码\n",
    "- 文件夹：`D:\\Gitee\\StataSX2018-wiki\\temp_topic`\n",
    "\n",
    "- 旧文件名：\n",
    "  - Format1: `OK-姓名-B757：title.md`\n",
    "  - Format2: `姓名-OK-B765：title.md`\n",
    "\n",
    "- 新文件名：\n",
    "  - `OK-B765-姓名：title.md`\n",
    "\n",
    "> [ChatGPT 对话](https://chatgpt.com/share/6819d574-5d88-8005-9c8c-9f3b902bf896)\n",
    "\n",
    "----\n",
    "\n",
    "> 待处理文档\n",
    "\n",
    "![20250506173108](https://fig-lianxh.oss-cn-shenzhen.aliyuncs.com/20250506173108.png)\n",
    "\n",
    "> 处理后文档\n",
    "\n",
    "![20250506225925](https://fig-lianxh.oss-cn-shenzhen.aliyuncs.com/20250506225925.png)"
   ]
  },
  {
   "cell_type": "code",
   "execution_count": 2,
   "id": "214bcca6",
   "metadata": {},
   "outputs": [
    {
     "name": "stdout",
     "output_type": "stream",
     "text": [
      "已重命名：OK-王子晗-B722-翻译-论文推介：实证分析常见错误指南.md → OK-B722-王子晗：翻译-论文推介：实证分析常见错误指南.md\n",
      "已重命名：杨云帆-OK-B614-回归分析可视化：coefplot命令详解.md → OK-B614-杨云帆：回归分析可视化：coefplot命令详解.md\n"
     ]
    }
   ],
   "source": [
    "import os\n",
    "import re\n",
    "\n",
    "# 设置目标文件夹路径\n",
    "folder = r'D:\\Gitee\\StataSX2018-wiki\\temp_topic'\n",
    "\n",
    "# 遍历文件夹中的所有 .md 文件\n",
    "for filename in os.listdir(folder):\n",
    "    if not filename.endswith(\".md\"):\n",
    "        continue\n",
    "\n",
    "    old_path = os.path.join(folder, filename)\n",
    "\n",
    "    # Format1: OK-姓名-Bxxx：title.md\n",
    "    match1 = re.match(r'^OK-([\\u4e00-\\u9fa5]+)-B(\\d{3})[：-](.*)\\.md$', filename)\n",
    "    \n",
    "    # Format2: 姓名-OK-Bxxx：title.md\n",
    "    match2 = re.match(r'^([\\u4e00-\\u9fa5]+)-OK-B(\\d{3})[：-](.*)\\.md$', filename)\n",
    "\n",
    "    if match1:\n",
    "        name, code, title = match1.groups()\n",
    "    elif match2:\n",
    "        name, code, title = match2.groups()\n",
    "    else:\n",
    "        continue  # 不匹配跳过\n",
    "\n",
    "    # 构造新文件名\n",
    "    new_filename = f'OK-B{code}-{name}：{title}.md'\n",
    "    new_path = os.path.join(folder, new_filename)\n",
    "\n",
    "    # 重命名文件\n",
    "    os.rename(old_path, new_path)\n",
    "    print(f'已重命名：{filename} → {new_filename}')\n"
   ]
  }
 ],
 "metadata": {
  "kernelspec": {
   "display_name": "base",
   "language": "python",
   "name": "python3"
  },
  "language_info": {
   "codemirror_mode": {
    "name": "ipython",
    "version": 3
   },
   "file_extension": ".py",
   "mimetype": "text/x-python",
   "name": "python",
   "nbconvert_exporter": "python",
   "pygments_lexer": "ipython3",
   "version": "3.12.7"
  }
 },
 "nbformat": 4,
 "nbformat_minor": 5
}
