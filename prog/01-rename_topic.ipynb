{
 "cells": [
  {
   "cell_type": "markdown",
   "id": "4643df9d",
   "metadata": {},
   "source": [
    "## 批量重命名文件\n",
    "\n",
    "- 任务：重命名文件名，Python 代码\n",
    "- 文件夹：`D:\\Gitee\\StataSX2018-wiki\\temp_topic`\n",
    "\n",
    "- 旧文件名：\n",
    "  - Format1: `OK-姓名-B757：title.md`\n",
    "  - Format2: `姓名-OK-B765：title.md`\n",
    "\n",
    "- 新文件名：\n",
    "  - `OK-B765-姓名：title.md`\n",
    "\n",
    "> [ChatGPT 对话](https://chatgpt.com/share/6819d574-5d88-8005-9c8c-9f3b902bf896)\n",
    "\n",
    "----\n",
    "\n",
    "> 待处理文档\n",
    "\n",
    "![20250506173108](https://fig-lianxh.oss-cn-shenzhen.aliyuncs.com/20250506173108.png)\n",
    "\n",
    "> 处理后文档\n",
    "\n",
    "![20250506225925](https://fig-lianxh.oss-cn-shenzhen.aliyuncs.com/20250506225925.png)"
   ]
  },
  {
   "cell_type": "code",
   "execution_count": 2,
   "id": "214bcca6",
   "metadata": {},
   "outputs": [
    {
     "name": "stdout",
     "output_type": "stream",
     "text": [
      "已重命名：OK-王子晗-B722-翻译-论文推介：实证分析常见错误指南.md → OK-B722-王子晗：翻译-论文推介：实证分析常见错误指南.md\n",
      "已重命名：杨云帆-OK-B614-回归分析可视化：coefplot命令详解.md → OK-B614-杨云帆：回归分析可视化：coefplot命令详解.md\n"
     ]
    }
   ],
   "source": [
    "import os\n",
    "import re\n",
    "\n",
    "# 设置目标文件夹路径\n",
    "folder = r'D:\\Gitee\\StataSX2018-wiki\\temp_topic'\n",
    "\n",
    "# 遍历文件夹中的所有 .md 文件\n",
    "for filename in os.listdir(folder):\n",
    "    if not filename.endswith(\".md\"):\n",
    "        continue\n",
    "\n",
    "    old_path = os.path.join(folder, filename)\n",
    "\n",
    "    # Format1: OK-姓名-Bxxx：title.md\n",
    "    match1 = re.match(r'^OK-([\\u4e00-\\u9fa5]+)-B(\\d{3})[：-](.*)\\.md$', filename)\n",
    "    \n",
    "    # Format2: 姓名-OK-Bxxx：title.md\n",
    "    match2 = re.match(r'^([\\u4e00-\\u9fa5]+)-OK-B(\\d{3})[：-](.*)\\.md$', filename)\n",
    "\n",
    "    if match1:\n",
    "        name, code, title = match1.groups()\n",
    "    elif match2:\n",
    "        name, code, title = match2.groups()\n",
    "    else:\n",
    "        continue  # 不匹配跳过\n",
    "\n",
    "    # 构造新文件名\n",
    "    new_filename = f'OK-B{code}-{name}：{title}.md'\n",
    "    new_path = os.path.join(folder, new_filename)\n",
    "\n",
    "    # 重命名文件\n",
    "    os.rename(old_path, new_path)\n",
    "    print(f'已重命名：{filename} → {new_filename}')\n"
   ]
  },
  {
   "cell_type": "markdown",
   "id": "ffd2b76c",
   "metadata": {},
   "source": [
    "## 批量重命名文件\n",
    "\n",
    "- input: `OK-xxxx`\n",
    "- output: `do-xxxx`\n",
    "- 任务：重命名文件名，Python 代码\n",
    "- 文件夹：`D:\\Gitee\\StataSX2018-wiki\\temp_topic`"
   ]
  },
  {
   "cell_type": "code",
   "execution_count": 3,
   "id": "1bd3fccc",
   "metadata": {},
   "outputs": [
    {
     "name": "stdout",
     "output_type": "stream",
     "text": [
      "已重命名：DO-A001-连玉君：推文标题.md → OK-A001-连玉君：推文标题.md\n",
      "已重命名：DO-B614-杨云帆：回归分析可视化：coefplot命令详解.md → OK-B614-杨云帆：回归分析可视化：coefplot命令详解.md\n",
      "已重命名：DO-B722-王子晗：翻译-论文推介：实证分析常见错误指南.md → OK-B722-王子晗：翻译-论文推介：实证分析常见错误指南.md\n",
      "已重命名：DO-B723-张欣童：空间计量-莫兰指数-moransi-空间自相关检验.md → OK-B723-张欣童：空间计量-莫兰指数-moransi-空间自相关检验.md\n",
      "已重命名：DO-B724-古莲子：文本分析-LDA 模型实操建议.md → OK-B724-古莲子：文本分析-LDA 模型实操建议.md\n",
      "已重命名：DO-B725-罗丹：论文推介：你到底在估计什么？.md → OK-B725-罗丹：论文推介：你到底在估计什么？.md\n",
      "已重命名：DO-B726-杨中园：DDD综述及应用文献整理.md → OK-B726-杨中园：DDD综述及应用文献整理.md\n",
      "已重命名：DO-B727-尹康：交乘项的中心化问题.md → OK-B727-尹康：交乘项的中心化问题.md\n",
      "已重命名：DO-B731-杨云帆：Stata - sumdocx 命令介绍.md → OK-B731-杨云帆：Stata - sumdocx 命令介绍.md\n",
      "已重命名：DO-B736-兰海铭：翻译 What to do with age_ Linear, Discrete, Both, or Spline.md → OK-B736-兰海铭：翻译 What to do with age_ Linear, Discrete, Both, or Spline.md\n",
      "已重命名：DO-B739-李长生：翻译：R 常用数据处理函数可视化解读.md → OK-B739-李长生：翻译：R 常用数据处理函数可视化解读.md\n",
      "已重命名：DO-B741-郭明悦：翻译：被解释变量是比率时如何估计？.md → OK-B741-郭明悦：翻译：被解释变量是比率时如何估计？.md\n",
      "已重命名：DO-B744-颜国强：翻译：ATE, ATT, and ATU.md → OK-B744-颜国强：翻译：ATE, ATT, and ATU.md\n",
      "已重命名：DO-B745-张祖冲：翻译：用 R 绘制供给需求曲线.md → OK-B745-张祖冲：翻译：用 R 绘制供给需求曲线.md\n",
      "已重命名：DO-B746-郭旗扬：翻译-R2 - 韦恩图直观解读.md → OK-B746-郭旗扬：翻译-R2 - 韦恩图直观解读.md\n",
      "已重命名：DO-B748-高君：翻译-IPW - 面板数据因果推断中的逆概率加权.md → OK-B748-高君：翻译-IPW - 面板数据因果推断中的逆概率加权.md\n",
      "已重命名：DO-B749-汪京：敏感性分析：实操手册.md → OK-B749-汪京：敏感性分析：实操手册.md\n",
      "已重命名：DO-B751-吴茜：Judea Pearl 聊 AI 的未来：我们需要因果AI.md → OK-B751-吴茜：Judea Pearl 聊 AI 的未来：我们需要因果AI.md\n",
      "已重命名：DO-B752-周智霖：论文推介：安慰剂检验.md → OK-B752-周智霖：论文推介：安慰剂检验.md\n",
      "已重命名：DO-B755-张弛：AI-IV：如何借助大语言模型寻找IV.md → OK-B755-张弛：AI-IV：如何借助大语言模型寻找IV.md\n",
      "已重命名：DO-B756-李俊奇：翻译-Python_ Dynamic Double Machine Learning.md → OK-B756-李俊奇：翻译-Python_ Dynamic Double Machine Learning.md\n",
      "已重命名：DO-B757-陈庭伟：2025年学术研究的9大最佳AI工具.md → OK-B757-陈庭伟：2025年学术研究的9大最佳AI工具.md\n",
      "已重命名：DO-B760-冯卓立：ChatGPT助手系列：CClaRA.md → OK-B760-冯卓立：ChatGPT助手系列：CClaRA.md\n",
      "已重命名：DO-B761-陈卓然：编写提示词（Prompt）的10条原则和15个建议.md → OK-B761-陈卓然：编写提示词（Prompt）的10条原则和15个建议.md\n",
      "已重命名：DO-B762-杜国蓉：如何借助 AI 高效完成文献综述.md → OK-B762-杜国蓉：如何借助 AI 高效完成文献综述.md\n",
      "已重命名：DO-B763-赵文琦：翻译+改写：DEV ChatGPT Prompts.md → OK-B763-赵文琦：翻译+改写：DEV ChatGPT Prompts.md\n",
      "已重命名：DO-B764-董思源：翻译+改写：写代码的提示词Prompts.md → OK-B764-董思源：翻译+改写：写代码的提示词Prompts.md\n",
      "已重命名：DO-B765-张琪琳：文献助手：Research Rabbit.md → OK-B765-张琪琳：文献助手：Research Rabbit.md\n",
      "已重命名：DO-B767-万储诚：IV：形形色色的 IV.md → OK-B767-万储诚：IV：形形色色的 IV.md\n",
      "已重命名：DO-B768-张琪琳：论文推介：如何论证因果关系？.md → OK-B768-张琪琳：论文推介：如何论证因果关系？.md\n",
      "已重命名：DO-B769-郑怿轩：AI 工具推荐.md → OK-B769-郑怿轩：AI 工具推荐.md\n",
      "已重命名：DO-B770-王烨文：新书推荐：CausalML-book.md → OK-B770-王烨文：新书推荐：CausalML-book.md\n",
      "已重命名：DO-B771-卢自鹏：AI能胜任匿名评审工作吗？.md → OK-B771-卢自鹏：AI能胜任匿名评审工作吗？.md\n",
      "已重命名：DO-B772-韦佳妤：论文推介：AI与社会科学融合到什么程度了？.md → OK-B772-韦佳妤：论文推介：AI与社会科学融合到什么程度了？.md\n",
      "已重命名：DO-B773-刘潍嘉：翻译：大语言模型通俗简介.md → OK-B773-刘潍嘉：翻译：大语言模型通俗简介.md\n",
      "已重命名：DO-B774-刘潍嘉：论文推介：如何利用大语言模型辅助生成因果推断的假设条件.md → OK-B774-刘潍嘉：论文推介：如何利用大语言模型辅助生成因果推断的假设条件.md\n",
      "已重命名：DO-B775-袁明生：用AI协助生成研究假设：我的三组提示词.md → OK-B775-袁明生：用AI协助生成研究假设：我的三组提示词.md\n",
      "已重命名：DO-B776-吴欣洋：AI助力：基于大语言模型的研究假设论证.md → OK-B776-吴欣洋：AI助力：基于大语言模型的研究假设论证.md\n",
      "已重命名：DO-B777-汤铭：推介：经济学家的深度学习.md → OK-B777-汤铭：推介：经济学家的深度学习.md\n"
     ]
    }
   ],
   "source": [
    "import os\n",
    "import re\n",
    "\n",
    "# 设置目标文件夹路径\n",
    "folder = r'D:\\Gitee\\StataSX2018-wiki\\temp_topic'\n",
    "\n",
    "# 遍历文件夹中的所有文件\n",
    "for filename in os.listdir(folder):\n",
    "    if filename.startswith(\"DO-\"):\n",
    "        old_path = os.path.join(folder, filename)\n",
    "        new_filename = filename.replace(\"DO-\", \"OK-\", 1)\n",
    "        new_path = os.path.join(folder, new_filename)\n",
    "\n",
    "        # 重命名文件\n",
    "        os.rename(old_path, new_path)\n",
    "        print(f'已重命名：{filename} → {new_filename}')"
   ]
  }
 ],
 "metadata": {
  "kernelspec": {
   "display_name": "base",
   "language": "python",
   "name": "python3"
  },
  "language_info": {
   "codemirror_mode": {
    "name": "ipython",
    "version": 3
   },
   "file_extension": ".py",
   "mimetype": "text/x-python",
   "name": "python",
   "nbconvert_exporter": "python",
   "pygments_lexer": "ipython3",
   "version": "3.12.7"
  }
 },
 "nbformat": 4,
 "nbformat_minor": 5
}
