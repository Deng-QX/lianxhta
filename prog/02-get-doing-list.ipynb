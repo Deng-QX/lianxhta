{
 "cells": [
  {
   "cell_type": "markdown",
   "id": "bd639893",
   "metadata": {},
   "source": [
    "## 获取选题名单及时间\n",
    "\n",
    "从 [Blog_topics] 文件夹中获取选题名单和时间，自动计算距离截止日期的天数，并列出：\n",
    "- 即将到期 (5 天内) 的选题列表；\n",
    "- 已过期的选题列表；\n",
    "\n"
   ]
  }
 ],
 "metadata": {
  "language_info": {
   "name": "python"
  }
 },
 "nbformat": 4,
 "nbformat_minor": 5
}
