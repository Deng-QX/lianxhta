{
 "cells": [
  {
   "cell_type": "markdown",
   "id": "8f719d2c",
   "metadata": {},
   "source": [
    "## 生成选题文档\n",
    "\n",
    "### input\n",
    "- Folder：\"`D:\\Github\\lianxhta\\tobe`\"\n",
    "- filename：'_备选推文选题-2025-M6.md'\n",
    "- range: B810 - B777\n",
    "\n",
    "<br>\n",
    "\n",
    "```Markdown\n",
    "------------ _备选推文选题-2025-M6.md ----------begin--\n",
    "# B810：xxxx\n",
    "……\n",
    "\n",
    "\n",
    "# B778：金融中的机器学习仓库\n",
    "\n",
    "写一篇推文介绍这个仓库，并列举一些有趣的项目。……\n",
    "\n",
    "- [financial-machine-learning](URL)\n",
    "  - 列示了上百个金融分析的仓库和项目\n",
    "  - Fork 这个仓库，……\n",
    "\n",
    "\n",
    "# B777：推介：经济学家的深度学习\n",
    "\n",
    "介绍这篇论文的核心观点，以及文中提及的主要深度学习方法。\n",
    "\n",
    "- Melissa Dell. \"Deep Learning for Economists.\" ……\n",
    "\n",
    "……\n",
    "------------ _备选推文选题-2025-M6.md ---------- over --\n",
    "```\n",
    "\n",
    "<br>\n",
    "\n",
    "### output\n",
    "\n",
    "- 以 `^# B\\d{3,.}：title` 开头的行为分割线，将该行及以下的文本写入一个新的 **.md** 文件中。简言之，若有 10 个以 `# B###` 开头的行，则生成 10 个 **.md** 文档。\n",
    "  - 文件名为 `B\\d{3,.}：title.md`。\n",
    "  - 存储路径：\"`D:\\Github\\lianxhta\\tobe\\files`\""
   ]
  }
 ],
 "metadata": {
  "language_info": {
   "name": "python"
  }
 },
 "nbformat": 4,
 "nbformat_minor": 5
}
